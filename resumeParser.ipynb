{
 "cells": [
  {
   "cell_type": "code",
   "execution_count": null,
   "metadata": {},
   "outputs": [],
   "source": [
    "# required libraries\n",
    "pip install nltk \n",
    "pip install spacy==2.1.0 \n",
    "pip install https://github.com/explosion/spacy-models/releases/download/en_core_web_sm-2.3.1/en_core_web_sm-2.3.1.tar.gz \n",
    "pip install pyresparser"
   ]
  },
  {
   "cell_type": "code",
   "execution_count": 17,
   "metadata": {},
   "outputs": [
    {
     "name": "stdout",
     "output_type": "stream",
     "text": [
      "Requirement already satisfied: pyresparser in c:\\users\\deepak.thakur\\anaconda3\\lib\\site-packages (1.0.6)\n",
      "Requirement already satisfied: pyrsistent>=0.15.2 in c:\\users\\deepak.thakur\\anaconda3\\lib\\site-packages (from pyresparser) (0.17.3)\n",
      "Requirement already satisfied: attrs>=19.1.0 in c:\\users\\deepak.thakur\\anaconda3\\lib\\site-packages (from pyresparser) (20.3.0)Note: you may need to restart the kernel to use updated packages.\n",
      "\n",
      "Requirement already satisfied: numpy>=1.16.4 in c:\\users\\deepak.thakur\\anaconda3\\lib\\site-packages (from pyresparser) (1.19.2)\n",
      "Requirement already satisfied: pytz>=2019.1 in c:\\users\\deepak.thakur\\anaconda3\\lib\\site-packages (from pyresparser) (2020.1)\n",
      "Requirement already satisfied: pycryptodome>=3.8.2 in c:\\users\\deepak.thakur\\anaconda3\\lib\\site-packages (from pyresparser) (3.18.0)\n",
      "Requirement already satisfied: srsly>=0.0.7 in c:\\users\\deepak.thakur\\anaconda3\\lib\\site-packages (from pyresparser) (1.0.6)\n",
      "Requirement already satisfied: wasabi>=0.2.2 in c:\\users\\deepak.thakur\\anaconda3\\lib\\site-packages (from pyresparser) (0.10.1)\n",
      "Requirement already satisfied: urllib3>=1.25.3 in c:\\users\\deepak.thakur\\anaconda3\\lib\\site-packages (from pyresparser) (1.25.11)\n",
      "Requirement already satisfied: pdfminer.six>=20181108 in c:\\users\\deepak.thakur\\anaconda3\\lib\\site-packages (from pyresparser) (20221105)\n",
      "Requirement already satisfied: idna>=2.8 in c:\\users\\deepak.thakur\\anaconda3\\lib\\site-packages (from pyresparser) (2.10)\n",
      "Requirement already satisfied: nltk>=3.4.3 in c:\\users\\deepak.thakur\\anaconda3\\lib\\site-packages (from pyresparser) (3.5)\n",
      "Requirement already satisfied: spacy>=2.1.4 in c:\\users\\deepak.thakur\\anaconda3\\lib\\site-packages (from pyresparser) (2.3.5)\n",
      "Requirement already satisfied: requests>=2.22.0 in c:\\users\\deepak.thakur\\anaconda3\\lib\\site-packages (from pyresparser) (2.24.0)\n",
      "Requirement already satisfied: docx2txt>=0.7 in c:\\users\\deepak.thakur\\anaconda3\\lib\\site-packages (from pyresparser) (0.8)\n",
      "Requirement already satisfied: six>=1.12.0 in c:\\users\\deepak.thakur\\anaconda3\\lib\\site-packages (from pyresparser) (1.15.0)\n",
      "Requirement already satisfied: thinc>=7.0.4 in c:\\users\\deepak.thakur\\anaconda3\\lib\\site-packages (from pyresparser) (7.4.6)\n",
      "Requirement already satisfied: jsonschema>=3.0.1 in c:\\users\\deepak.thakur\\anaconda3\\lib\\site-packages (from pyresparser) (3.2.0)\n",
      "Requirement already satisfied: certifi>=2019.6.16 in c:\\users\\deepak.thakur\\anaconda3\\lib\\site-packages (from pyresparser) (2020.6.20)\n",
      "Requirement already satisfied: python-dateutil>=2.8.0 in c:\\users\\deepak.thakur\\anaconda3\\lib\\site-packages (from pyresparser) (2.8.1)\n",
      "Requirement already satisfied: blis>=0.2.4 in c:\\users\\deepak.thakur\\anaconda3\\lib\\site-packages (from pyresparser) (0.7.9)\n",
      "Requirement already satisfied: sortedcontainers>=2.1.0 in c:\\users\\deepak.thakur\\anaconda3\\lib\\site-packages (from pyresparser) (2.2.2)\n",
      "Requirement already satisfied: preshed>=2.0.1 in c:\\users\\deepak.thakur\\anaconda3\\lib\\site-packages (from pyresparser) (3.0.8)\n",
      "Requirement already satisfied: chardet>=3.0.4 in c:\\users\\deepak.thakur\\anaconda3\\lib\\site-packages (from pyresparser) (3.0.4)\n",
      "Requirement already satisfied: tqdm>=4.32.2 in c:\\users\\deepak.thakur\\anaconda3\\lib\\site-packages (from pyresparser) (4.50.2)\n",
      "Requirement already satisfied: pandas>=0.24.2 in c:\\users\\deepak.thakur\\anaconda3\\lib\\site-packages (from pyresparser) (1.1.3)\n",
      "Requirement already satisfied: cymem>=2.0.2 in c:\\users\\deepak.thakur\\anaconda3\\lib\\site-packages (from pyresparser) (2.0.7)\n",
      "Requirement already satisfied: cryptography>=36.0.0 in c:\\users\\deepak.thakur\\anaconda3\\lib\\site-packages (from pdfminer.six>=20181108->pyresparser) (41.0.1)\n",
      "Requirement already satisfied: charset-normalizer>=2.0.0 in c:\\users\\deepak.thakur\\anaconda3\\lib\\site-packages (from pdfminer.six>=20181108->pyresparser) (3.1.0)\n",
      "Requirement already satisfied: regex in c:\\users\\deepak.thakur\\anaconda3\\lib\\site-packages (from nltk>=3.4.3->pyresparser) (2020.10.15)\n",
      "Requirement already satisfied: joblib in c:\\users\\deepak.thakur\\anaconda3\\lib\\site-packages (from nltk>=3.4.3->pyresparser) (1.1.0)\n",
      "Requirement already satisfied: click in c:\\users\\deepak.thakur\\anaconda3\\lib\\site-packages (from nltk>=3.4.3->pyresparser) (8.1.3)\n",
      "Requirement already satisfied: plac<1.2.0,>=0.9.6 in c:\\users\\deepak.thakur\\anaconda3\\lib\\site-packages (from spacy>=2.1.4->pyresparser) (1.1.3)\n",
      "Requirement already satisfied: catalogue<1.1.0,>=0.0.7 in c:\\users\\deepak.thakur\\anaconda3\\lib\\site-packages (from spacy>=2.1.4->pyresparser) (1.0.2)\n",
      "Requirement already satisfied: setuptools in c:\\users\\deepak.thakur\\anaconda3\\lib\\site-packages (from spacy>=2.1.4->pyresparser) (50.3.1.post20201107)\n",
      "Requirement already satisfied: murmurhash<1.1.0,>=0.28.0 in c:\\users\\deepak.thakur\\anaconda3\\lib\\site-packages (from spacy>=2.1.4->pyresparser) (1.0.9)\n",
      "Requirement already satisfied: cffi>=1.12 in c:\\users\\deepak.thakur\\anaconda3\\lib\\site-packages (from cryptography>=36.0.0->pdfminer.six>=20181108->pyresparser) (1.14.3)\n",
      "Requirement already satisfied: colorama; platform_system == \"Windows\" in c:\\users\\deepak.thakur\\anaconda3\\lib\\site-packages (from click->nltk>=3.4.3->pyresparser) (0.4.6)\n",
      "Requirement already satisfied: pycparser in c:\\users\\deepak.thakur\\anaconda3\\lib\\site-packages (from cffi>=1.12->cryptography>=36.0.0->pdfminer.six>=20181108->pyresparser) (2.20)\n"
     ]
    }
   ],
   "source": [
    "pip install pyresparser"
   ]
  },
  {
   "cell_type": "code",
   "execution_count": 18,
   "metadata": {},
   "outputs": [
    {
     "name": "stderr",
     "output_type": "stream",
     "text": [
      "[nltk_data] Downloading package stopwords to\n",
      "[nltk_data]     C:\\Users\\deepak.thakur\\AppData\\Roaming\\nltk_data...\n",
      "[nltk_data]   Package stopwords is already up-to-date!\n"
     ]
    },
    {
     "data": {
      "text/plain": [
       "True"
      ]
     },
     "execution_count": 18,
     "metadata": {},
     "output_type": "execute_result"
    }
   ],
   "source": [
    "import nltk\n",
    "nltk.download('stopwords')"
   ]
  },
  {
   "cell_type": "code",
   "execution_count": 19,
   "metadata": {},
   "outputs": [
    {
     "name": "stdout",
     "output_type": "stream",
     "text": [
      "Requirement already satisfied: python-docx in c:\\users\\deepak.thakur\\anaconda3\\lib\\site-packages (0.8.11)\n",
      "Requirement already satisfied: lxml>=2.3.2 in c:\\users\\deepak.thakur\\anaconda3\\lib\\site-packages (from python-docx) (4.6.1)\n",
      "Note: you may need to restart the kernel to use updated packages.\n"
     ]
    }
   ],
   "source": [
    "pip install python-docx"
   ]
  },
  {
   "cell_type": "code",
   "execution_count": 13,
   "metadata": {},
   "outputs": [],
   "source": [
    "from pyresparser import ResumeParser\n",
    "import os\n",
    "from docx import Document"
   ]
  },
  {
   "cell_type": "code",
   "execution_count": 14,
   "metadata": {},
   "outputs": [
    {
     "name": "stdout",
     "output_type": "stream",
     "text": [
      "Deepak_Thakur_Resume_old.pdf\n"
     ]
    }
   ],
   "source": [
    "##file format should be in .txt , .docx or .pdf only\n",
    "filed=input()"
   ]
  },
  {
   "cell_type": "code",
   "execution_count": 15,
   "metadata": {},
   "outputs": [
    {
     "name": "stdout",
     "output_type": "stream",
     "text": [
      "['Profiling', 'Analysis', 'Flask', 'Python', 'Governance', 'Algorithms', 'Training', 'Sql', 'Real-time', 'Documentation', 'Github', 'Statistics', 'Data quality', 'Technical', 'Matplotlib', 'Numpy', 'Aws', 'Writing', 'Workflows', 'Pandas', 'Mysql', 'System', 'Architecture', 'Machine learning', 'Keras', 'Database', 'Java', 'Tensorflow', 'Testing', 'Mkdocs']\n"
     ]
    }
   ],
   "source": [
    "try:\n",
    "    doc = Document()\n",
    "    with open(filed, 'rb') as file:\n",
    "        doc.add_paragraph(file.read())\n",
    "    doc.save(\"text.docx\")\n",
    "    data = ResumeParser('text.docx').get_extracted_data()\n",
    "    print(data['skills'])\n",
    "except:\n",
    "    data = ResumeParser(filed).get_extracted_data()\n",
    "    print(data['skills'])"
   ]
  },
  {
   "cell_type": "code",
   "execution_count": 49,
   "metadata": {},
   "outputs": [],
   "source": [
    "from pyresparser import ResumeParser\n",
    "data = ResumeParser(\"Deepak_Thakur_r.pdf\").get_extracted_data()"
   ]
  },
  {
   "cell_type": "code",
   "execution_count": 50,
   "metadata": {},
   "outputs": [
    {
     "name": "stdout",
     "output_type": "stream",
     "text": [
      "{'name': 'Deepak Thakur', 'email': 'deepak2009thakur@gmail.com', 'mobile_number': '9971678995', 'skills': ['Analysis', 'Flask', 'Python', 'Training', 'Algorithms', 'Sql', 'Real-time', 'Documentation', 'Engineering', 'Github', 'Statistics', 'Technical', 'Matplotlib', 'Numpy', 'Aws', 'Writing', 'Pandas', 'Mysql', 'System', 'Architecture', 'Machine learning', 'Keras', 'Database', 'Java', 'Tensorflow', 'Health', 'Testing', 'Mkdocs'], 'college_name': None, 'degree': None, 'designation': None, 'experience': ['products with respect to the choices.', '• ResNet50 pre-trained model is being used to take out the embedding for all the 44k images.', '• K-nearest neighbors algorithm is used in the project to take out a similar product for the recommendation.', 'Sign Generation Language using Yolov5  | Python, cnn, Yolov5', 'Jan 2023', '• Designed a Sign Generation language model using Yolov5, to detect and classify signs in real-time.', '• Improved model performance and reduced overfitting by implementing techniques such as data augmentation,', 'transfer-learning, and hyperparameter tuning.', '• Pre-processed custom dataset of 6 different classes with consistent size and quality inputted into yolov5 model.', 'Python Question Classification: ML-based StackOverflow Text Analysis  | DVC, mkdocs, NLP', 'Feb 2023', '• binary classification model to classify StackOverflow questions as Python-related or not', '• Achieved high accuracy and F1-score by preprocessing the data, and converting text data to numerical format using', 'TF-IDF vectorization.', '• Ensured reproducibility and efficient tracking of changes using DVC, with clear project documentation using MKDocs', '• Demonstrated proficiency in end-to-end machine learning, including data preprocessing, model selection, project', 'organization, and documentation.'], 'company_names': None, 'no_of_pages': 1, 'total_experience': 0.0}\n"
     ]
    }
   ],
   "source": [
    "print(data)"
   ]
  },
  {
   "cell_type": "code",
   "execution_count": 51,
   "metadata": {},
   "outputs": [
    {
     "data": {
      "text/plain": [
       "['products with respect to the choices.',\n",
       " '• ResNet50 pre-trained model is being used to take out the embedding for all the 44k images.',\n",
       " '• K-nearest neighbors algorithm is used in the project to take out a similar product for the recommendation.',\n",
       " 'Sign Generation Language using Yolov5  | Python, cnn, Yolov5',\n",
       " 'Jan 2023',\n",
       " '• Designed a Sign Generation language model using Yolov5, to detect and classify signs in real-time.',\n",
       " '• Improved model performance and reduced overfitting by implementing techniques such as data augmentation,',\n",
       " 'transfer-learning, and hyperparameter tuning.',\n",
       " '• Pre-processed custom dataset of 6 different classes with consistent size and quality inputted into yolov5 model.',\n",
       " 'Python Question Classification: ML-based StackOverflow Text Analysis  | DVC, mkdocs, NLP',\n",
       " 'Feb 2023',\n",
       " '• binary classification model to classify StackOverflow questions as Python-related or not',\n",
       " '• Achieved high accuracy and F1-score by preprocessing the data, and converting text data to numerical format using',\n",
       " 'TF-IDF vectorization.',\n",
       " '• Ensured reproducibility and efficient tracking of changes using DVC, with clear project documentation using MKDocs',\n",
       " '• Demonstrated proficiency in end-to-end machine learning, including data preprocessing, model selection, project',\n",
       " 'organization, and documentation.']"
      ]
     },
     "execution_count": 51,
     "metadata": {},
     "output_type": "execute_result"
    }
   ],
   "source": [
    "data['experience']"
   ]
  },
  {
   "cell_type": "code",
   "execution_count": null,
   "metadata": {},
   "outputs": [],
   "source": [
    "            "
   ]
  },
  {
   "cell_type": "code",
   "execution_count": null,
   "metadata": {},
   "outputs": [],
   "source": []
  }
 ],
 "metadata": {
  "kernelspec": {
   "display_name": "Python 3",
   "language": "python",
   "name": "python3"
  },
  "language_info": {
   "codemirror_mode": {
    "name": "ipython",
    "version": 3
   },
   "file_extension": ".py",
   "mimetype": "text/x-python",
   "name": "python",
   "nbconvert_exporter": "python",
   "pygments_lexer": "ipython3",
   "version": "3.8.5"
  }
 },
 "nbformat": 4,
 "nbformat_minor": 4
}
